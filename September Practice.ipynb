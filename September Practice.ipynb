{
 "cells": [
  {
   "cell_type": "code",
   "execution_count": 1,
   "id": "96025b77",
   "metadata": {},
   "outputs": [
    {
     "data": {
      "text/plain": [
       "6"
      ]
     },
     "execution_count": 1,
     "metadata": {},
     "output_type": "execute_result"
    }
   ],
   "source": [
    "\n",
    "\n",
    "\"\"\"\n",
    "Given an integer array nums sorted in non-decreasing order, \n",
    "remove some duplicates in-place such that each unique element appears at most twice. \n",
    "The relative order of the elements should be kept the same.\n",
    "\n",
    "Since it is impossible to change the length of the array in some languages, \n",
    "you must instead have the result be placed in the first part of the array nums. \n",
    "More formally, if there are k elements after removing the duplicates, then the first k elements of nums should hold the final result. It does not matter what you leave beyond the first k elements.\n",
    "\n",
    "Return k after placing the final result in the first k slots of nums.\n",
    "\n",
    "Do not allocate extra space for another array. You must do this by modifying the input array in-place with O(1) extra memory.\n",
    "\n",
    "Custom Judge:\n",
    "\n",
    "The judge will test your solution with the following code:\n",
    "\n",
    "int[] nums = [...]; // Input array\n",
    "int[] expectedNums = [...]; // The expected answer with correct length\n",
    "\n",
    "int k = removeDuplicates(nums); // Calls your implementation\n",
    "\n",
    "assert k == expectedNums.length;\n",
    "for (int i = 0; i < k; i++) {\n",
    "    assert nums[i] == expectedNums[i];\n",
    "}\n",
    "If all assertions pass, then your solution will be accepted.\n",
    "\n",
    " \n",
    "\n",
    "Example 1:\n",
    "\n",
    "Input: nums = [1,1,1,2,2,3]\n",
    "Output: 5, nums = [1,1,2,2,3,_]\n",
    "Explanation: Your function should return k = 5, with the first five elements of nums being 1, 1, 2, 2 and 3 respectively.\n",
    "It does not matter what you leave beyond the returned k (hence they are underscores).\n",
    "Example 2:\n",
    "\n",
    "Input: nums = [0,0,1,1,1,1,2,3,3]\n",
    "Output: 7, nums = [0,0,1,1,2,3,3,_,_]\n",
    "Explanation: Your function should return k = 7, with the first seven elements of nums being 0, 0, 1, 1, 2, 3 and 3 respectively.\n",
    "It does not matter what you leave beyond the returned k (hence they are underscores).\n",
    " \n",
    "\n",
    "\"\"\"\n",
    "\n",
    "def removeDupies(nums):\n",
    "    left=0\n",
    "    right=2\n",
    "    while right<len(nums):        \n",
    "        if nums[left]==nums[right]:\n",
    "            nums.pop(right)\n",
    "        elif nums[left]!=nums[right]:\n",
    "            left+=1\n",
    "            right+=1\n",
    "        else:\n",
    "            continue\n",
    "\n",
    "    return len(nums)\n",
    "    \n",
    "removeDupies([1,1,1,2,2,2,3,3,3])\n",
    "\n",
    "#Solution passed Leetcode"
   ]
  },
  {
   "cell_type": "code",
   "execution_count": 22,
   "id": "62808584",
   "metadata": {},
   "outputs": [],
   "source": [
    "\"\"\"\n",
    "\n",
    "Given an array of strings strs, group the  anagrams together. You can return the answer in any order.\n",
    "\n",
    "\n",
    "Example 1:\n",
    "\n",
    "Input: strs = [\"eat\",\"tea\",\"tan\",\"ate\",\"nat\",\"bat\"]\n",
    "\n",
    "Output: [[\"bat\"],[\"nat\",\"tan\"],[\"ate\",\"eat\",\"tea\"]]\n",
    "\n",
    "Explanation:\n",
    "\n",
    "There is no string in strs that can be rearranged to form \"bat\".\n",
    "The strings \"nat\" and \"tan\" are anagrams as they can be rearranged to form each other.\n",
    "The strings \"ate\", \"eat\", and \"tea\" are anagrams as they can be rearranged to form each other.\n",
    "Example 2:\n",
    "\n",
    "Input: strs = [\"\"]\n",
    "\n",
    "Output: [[\"\"]]\n",
    "\n",
    "Example 3:\n",
    "\n",
    "Input: strs = [\"a\"]\n",
    "\n",
    "Output: [[\"a\"]]\n",
    "\n",
    "\"\"\"\n",
    "\n",
    "def anagramGroup(strs):\n",
    "    \n",
    "    #sort the list alphabetically because it will easily find anagrams for next iterations of that word\n",
    "    #add that alhpha sorted word as key and all matching words will be in a list of values\n",
    "    #return all the values you got\n",
    "    \n",
    "    \n",
    "    hash_map={}\n",
    "    \n",
    "    for item in strs:\n",
    "        temp=\"\".join(sorted(item))\n",
    "        \n",
    "        if temp in hash_map.keys():\n",
    "            hash_map[temp].append(item)\n",
    "            \n",
    "        else:\n",
    "            hash_map[temp]=[item]\n",
    "    \n",
    "    return list(hash_map.values())"
   ]
  },
  {
   "cell_type": "code",
   "execution_count": 23,
   "id": "ad64622a",
   "metadata": {},
   "outputs": [
    {
     "data": {
      "text/plain": [
       "[['eat', 'tea', 'ate'], ['tan', 'nat'], ['bat']]"
      ]
     },
     "execution_count": 23,
     "metadata": {},
     "output_type": "execute_result"
    }
   ],
   "source": [
    "anagramGroup([\"eat\",\"tea\",\"tan\",\"ate\",\"nat\",\"bat\"])\n"
   ]
  },
  {
   "cell_type": "code",
   "execution_count": null,
   "id": "6542b13d",
   "metadata": {},
   "outputs": [],
   "source": []
  },
  {
   "cell_type": "code",
   "execution_count": null,
   "id": "4acef7cb",
   "metadata": {},
   "outputs": [],
   "source": []
  }
 ],
 "metadata": {
  "kernelspec": {
   "display_name": "Python 3 (ipykernel)",
   "language": "python",
   "name": "python3"
  },
  "language_info": {
   "codemirror_mode": {
    "name": "ipython",
    "version": 3
   },
   "file_extension": ".py",
   "mimetype": "text/x-python",
   "name": "python",
   "nbconvert_exporter": "python",
   "pygments_lexer": "ipython3",
   "version": "3.9.12"
  }
 },
 "nbformat": 4,
 "nbformat_minor": 5
}
